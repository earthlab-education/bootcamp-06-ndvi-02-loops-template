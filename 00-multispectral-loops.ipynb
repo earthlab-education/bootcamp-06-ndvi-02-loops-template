{
 "cells": [
  {
   "cell_type": "markdown",
   "metadata": {
    "tags": [
     "remove_cell"
    ]
   },
   "source": [
    "<div><img style=\"float: left; padding-right: 3em;\" src=\"https://avatars.githubusercontent.com/u/19476722\" width=\"150\" /><div/>\n",
    "\n",
    "# Earth Data Science Coding Challenge!\n",
    "Before we get started, make sure to read or review the guidelines below. These will help make sure that your code is **readable** and **reproducible**. "
   ]
  },
  {
   "cell_type": "markdown",
   "metadata": {
    "tags": [
     "remove_cell"
    ]
   },
   "source": [
    "## Don't get **caught** by these Jupyter notebook gotchas\n",
    "\n",
    "<img src=\"https://miro.medium.com/v2/resize:fit:4800/format:webp/1*o0HleR7BSe8W-pTnmucqHA.jpeg\" width=300 style=\"padding: 1em; border-style: solid; border-color: grey;\" />\n",
    "\n",
    "  > *Image source: https://alaskausfws.medium.com/whats-big-and-brown-and-loves-salmon-e1803579ee36*\n",
    "\n",
    "These are the most common issues that will keep you from getting started and delay your code review:\n",
    "\n",
    "1. When you try to run some code on GitHub Codespaces, you may be prompted to select a **kernel**.\n",
    "   * The **kernel** refers to the version of Python you are using\n",
    "   * You should use the **base** kernel, which should be the default option. \n",
    "   * You can also use the `Select Kernel` menu in the upper right to select the **base** kernel\n",
    "2. Before you commit your work, make sure it runs **reproducibly** by clicking:\n",
    "   1. `Restart` (this button won't appear until you've run some code), then\n",
    "   2. `Run All`\n",
    "\n",
    "## Check your code to make sure it's clean and easy to read\n",
    "\n",
    "<img src=\"https://encrypted-tbn0.gstatic.com/images?q=tbn:ANd9GcSO1w9WrbwbuMLN14IezH-iq2HEGwO3JDvmo5Y_hQIy7k-Xo2gZH-mP2GUIG6RFWL04X1k&usqp=CAU\" height=200 />\n",
    "\n",
    "* Format all cells prior to submitting (right click on your code).\n",
    "* Use expressive names for variables so you or the reader knows what they are. \n",
    "* Use comments to explain your code -- e.g. \n",
    "  ```python\n",
    "  # This is a comment, it starts with a hash sign\n",
    "  ```\n",
    "\n",
    "## Label and describe your plots\n",
    "\n",
    "![Source: https://xkcd.com/833](https://imgs.xkcd.com/comics/convincing.png)\n",
    "\n",
    "Make sure each plot has:\n",
    "  * A title that explains where and when the data are from\n",
    "  * x- and y- axis labels with **units** where appropriate\n",
    "  * A legend where appropriate\n",
    "\n",
    "\n",
    "## Icons: how to use this notebook\n",
    "We use the following icons to let you know when you need to change something to complete the challenge:\n",
    "  * &#128187; means you need to write or edit some code.\n",
    "  \n",
    "  * &#128214;  indicates recommended reading\n",
    "  \n",
    "  * &#9998; marks written responses to questions\n",
    "  \n",
    "  * &#127798; is an optional extra challenge\n",
    "  "
   ]
  },
  {
   "cell_type": "markdown",
   "metadata": {},
   "source": [
    "---"
   ]
  },
  {
   "cell_type": "markdown",
   "metadata": {
    "deletable": false,
    "editable": false,
    "nbgrader": {
     "cell_type": "markdown",
     "checksum": "497088948d495bf1bdcc0a865c30e4ed",
     "grade": false,
     "grade_id": "hw-instructions",
     "locked": true,
     "schema_version": 3,
     "solution": false,
     "task": false
    },
    "tags": [
     "hide"
    ]
   },
   "source": [
    "# Introduction to Multispectral Remote Sensing Data: Urban Green Space\n",
    "\n",
    "For this assignment, you will visualize and quantify differences in vegetation health by neighborhood in Chicago, IL.\n",
    "\n",
    "We will be developing this code over several weeks in order to practice writing **modular** code. Last week, you should have:\n",
    "1. Downloaded National Agricultural Imagery Program (NAIP) multispectral data for a single neighborhood in Chicago\n",
    "2. Plotted True Color (RGB) and Color Infrared (CIR) images of the area\n",
    "3. Calculated summary statistics of the NDVI and saved them to a file.\n",
    "\n",
    "This week, you will:\n",
    "1. Select two neighborhoods\n",
    "2. FOR EACH neighborhood, you will then:\n",
    "   1. Download NAIP multispectral data for the neighborhood\n",
    "   2. Calculate NDVI\n",
    "   3. Calculate and save summary statistics of to a file\n",
    "\n",
    "Eventually, you will use modular Python code to obtain those summary statistics for every neighborhood while making efficient use of the Codespace computing resources. You will create chloropleth maps of neighborhood greenery statistics, and relate those values to US Census data on income.\n",
    "\n",
    "YOU DO NOT NEED TO COMPLETE YOUR PORTFOLIO PIECE FOR THIS WEEK - but you will create one for the final analysis which you can start working on now."
   ]
  },
  {
   "cell_type": "markdown",
   "metadata": {
    "deletable": false,
    "editable": false,
    "nbgrader": {
     "cell_type": "markdown",
     "checksum": "15fc9f4d92c48c632534ea94f230051b",
     "grade": false,
     "grade_id": "step-1",
     "locked": true,
     "schema_version": 3,
     "solution": false,
     "task": false
    }
   },
   "source": [
    "## STEP 1: Get set up"
   ]
  },
  {
   "cell_type": "markdown",
   "metadata": {
    "deletable": false,
    "editable": false,
    "nbgrader": {
     "cell_type": "markdown",
     "checksum": "802ae90b5faf847da050844b4af9b307",
     "grade": false,
     "grade_id": "instr-imports",
     "locked": true,
     "schema_version": 3,
     "solution": false,
     "task": false
    }
   },
   "source": [
    "### Package imports\n",
    "Use the cell below to import the packages you need in the rest of the notebook (and **ONLY** the packages you need in the rest of the notebook).\n",
    "\n",
    "In addition to packages you have already used, you will need the following submodules:\n",
    "  * `earthpy.earthexplorer`\n",
    "  * `rioxarray.merge`"
   ]
  },
  {
   "cell_type": "code",
   "execution_count": null,
   "metadata": {
    "deletable": false,
    "extensions": {
     "jupyter_dashboards": {
      "version": 1,
      "views": {
       "grid_default": {},
       "report_default": {
        "hidden": true
       }
      }
     }
    },
    "nbgrader": {
     "cell_type": "code",
     "checksum": "62e02a7624d7768be1e0d7717d4b33d6",
     "grade": false,
     "grade_id": "ans-imports",
     "locked": false,
     "schema_version": 3,
     "solution": true,
     "task": false
    },
    "tags": [
     "hide"
    ]
   },
   "outputs": [],
   "source": [
    "# YOUR CODE HERE\n",
    "raise NotImplementedError()"
   ]
  },
  {
   "cell_type": "markdown",
   "metadata": {
    "deletable": false,
    "editable": false,
    "nbgrader": {
     "cell_type": "markdown",
     "checksum": "1621a175d90065e40d35b48300235d96",
     "grade": false,
     "grade_id": "step-2",
     "locked": true,
     "schema_version": 3,
     "solution": false,
     "task": false
    }
   },
   "source": [
    "## STEP 2: Area of Interest"
   ]
  },
  {
   "cell_type": "markdown",
   "metadata": {
    "deletable": false,
    "editable": false,
    "nbgrader": {
     "cell_type": "markdown",
     "checksum": "6fe9e510273ad307dc536d1f15ef5bde",
     "grade": false,
     "grade_id": "instr-download-neighborhoods",
     "locked": true,
     "schema_version": 3,
     "solution": false,
     "task": false
    }
   },
   "source": [
    "### Select a small number of neighborhoods to test your code and loops\n",
    "\n",
    "In the cell below, download a shapefile of the City of Chicago neighborhoods from [the City of Chicago Data Portal](https://data.cityofchicago.org/).\n",
    "\n",
    "YOUR TASK:\n",
    "1. Find the url for the City of Chicago Neighborhood boundaries as a Shapefile\n",
    "2. Download and open up the shapefile\n",
    "3. **Select the 'Humboldt Park' and 'Lincoln Park' neighborhood for this practice analysis**"
   ]
  },
  {
   "cell_type": "code",
   "execution_count": null,
   "metadata": {
    "deletable": false,
    "nbgrader": {
     "cell_type": "code",
     "checksum": "1ea109f4d72fe9c96476d2989bc797d3",
     "grade": false,
     "grade_id": "ans-download-neighborhoods",
     "locked": false,
     "schema_version": 3,
     "solution": true,
     "task": false
    }
   },
   "outputs": [],
   "source": [
    "# YOUR CODE HERE\n",
    "raise NotImplementedError()"
   ]
  },
  {
   "cell_type": "code",
   "execution_count": null,
   "metadata": {
    "deletable": false,
    "editable": false,
    "nbgrader": {
     "cell_type": "code",
     "checksum": "3b5149395b25d04527cd50e81e12b0d6",
     "grade": true,
     "grade_id": "tests-download-neighborhoods",
     "locked": true,
     "points": 5,
     "schema_version": 3,
     "solution": false,
     "task": false
    }
   },
   "outputs": [],
   "source": [
    "# BEGIN TESTS\n",
    "ans_hp_gdf = _\n",
    "\n",
    "points_hp_gdf = 0\n",
    "\n",
    "if isinstance(ans_hp_gdf, gpd.GeoDataFrame):\n",
    "    print(\"\\u2705 Great job! Your data are stored in a GeoDataFrame!\")\n",
    "    points_hp_gdf += 2\n",
    "else:\n",
    "    print(\"\\u274C Oops, the data are not stored in a GeoDataFrame.\")\n",
    "\n",
    "if round(ans_hp_gdf.to_crs(32616).length.sum(), 2)==32901.1:\n",
    "    points_hp_gdf += 8\n",
    "    print(\"\\u2705 You selected the correct neighborhood boundaries!\")\n",
    "else:\n",
    "    print(\"\\u274C The data were not selected correctly.\")\n",
    "\n",
    "print('You earned {} of 10 points'.format(points_hp_gdf))\n",
    "points_hp_gdf\n",
    "# END TESTS"
   ]
  },
  {
   "cell_type": "markdown",
   "metadata": {
    "deletable": false,
    "editable": false,
    "nbgrader": {
     "cell_type": "markdown",
     "checksum": "e2e2d26d6492bf12bf2a19399a3d5be1",
     "grade": false,
     "grade_id": "task-site-map",
     "locked": true,
     "points": 5,
     "schema_version": 3,
     "solution": false,
     "task": true
    }
   },
   "source": [
    "### Site Map\n",
    "\n",
    "In the cell below, make a plot of the Humboldt Park and Lincoln Park neighborhood boundaries over a tile source map of your choice to verify that your data download worked as expected.\n",
    "\n",
    "> HINT: Reproject the neighborhood shapefile to `EPSG:3857` (Web Mercator) to get it to display on top of a tile source basemap."
   ]
  },
  {
   "cell_type": "code",
   "execution_count": null,
   "metadata": {
    "deletable": false,
    "nbgrader": {
     "cell_type": "code",
     "checksum": "70ec63e0f5913597a34b02640728fc5c",
     "grade": false,
     "grade_id": "ans-site-map",
     "locked": false,
     "schema_version": 3,
     "solution": true,
     "task": false
    }
   },
   "outputs": [],
   "source": [
    "# YOUR CODE HERE\n",
    "raise NotImplementedError()"
   ]
  },
  {
   "cell_type": "markdown",
   "metadata": {
    "deletable": false,
    "editable": false,
    "nbgrader": {
     "cell_type": "markdown",
     "checksum": "87cd89f2a1ebde18c96d204330db5f6e",
     "grade": false,
     "grade_id": "step-3",
     "locked": true,
     "points": 8,
     "schema_version": 3,
     "solution": false,
     "task": true
    }
   },
   "source": [
    "## STEP 3: Set up your loop\n",
    "\n",
    "To complete this analysis, you will need to run the same code on the 'Humboldt Park' and 'Lincoln Park' neighborhoods. In order to keep your code DRY (Don't Repeat Yourself), there are several code structures you could use...but this notebook will walk you through building a `for` loop.\n",
    "    \n",
    "I recommend building `for` loops one line at a time, testing at each additional line, which is what you will do in this notebook. This technique will help you to catch errors and incorrect code while they are small.\n",
    "\n",
    "The syntax for a `for` loop is:\n",
    "\n",
    "```python\n",
    "for my_item in my_iterator:\n",
    "    do_something()\n",
    "```\n",
    "\n",
    "Some things to keep in mind about `for` loops:\n",
    "  * `my_item` is called the **looping variable**. It changes every time through the loop, cycling through each element of `my_iterator`. \n",
    "  * `my_iterator` must be something that **iterates**, like a list or tuple. To iterate through each row of a `DataFrame`, you can use the `df.iterrows()` method to turn the `DataFrame` into an iterable that returns two values (the index and the row) for each row.\n",
    "  * Notice the **indentation** -- only the indented block of code after the `for/in` statement will be run repeatedly. This is different from other coding languages that use parentheses `()` or braces `{}` to surround the code that should be repeated.\n",
    "  * Another common error with `for` loops is to forget the colon `:` at the end of the `for/in` statement.\n",
    "\n",
    "\n",
    "\n",
    "YOUR TASK:\n",
    "  1. Copy the following sample code into the cell below, which iterates through each row of a `GeoDataFrame:\n",
    "  \n",
    "  ```python\n",
    "  for i, row in gdf.iterrows():\n",
    "      print(i)\n",
    "      print(row)\n",
    "  ```\n",
    "  \n",
    "  2. Change `gdf` to your test `GeoDataFrame` with the 'Humboldt Park' and 'Lincoln Park' neighborhoods ONLY.\n",
    "  3. Run the cell and take a look at what `i` and `row` are. Give your **looping variables** descriptive names."
   ]
  },
  {
   "cell_type": "code",
   "execution_count": null,
   "metadata": {
    "deletable": false,
    "nbgrader": {
     "cell_type": "code",
     "checksum": "1ca68b63d37561d774ce0c97f0217cdd",
     "grade": false,
     "grade_id": "ans-start-loop",
     "locked": false,
     "schema_version": 3,
     "solution": true,
     "task": false
    }
   },
   "outputs": [],
   "source": [
    "# YOUR CODE HERE\n",
    "raise NotImplementedError()"
   ]
  },
  {
   "cell_type": "markdown",
   "metadata": {
    "deletable": false,
    "editable": false,
    "nbgrader": {
     "cell_type": "markdown",
     "checksum": "d46849cafd1c12af1e69295148f59d3a",
     "grade": false,
     "grade_id": "step-4",
     "locked": true,
     "schema_version": 3,
     "solution": false,
     "task": false
    }
   },
   "source": [
    "## STEP 4: Download Data"
   ]
  },
  {
   "cell_type": "markdown",
   "metadata": {
    "deletable": false,
    "editable": false,
    "nbgrader": {
     "cell_type": "markdown",
     "checksum": "3cd31c3421612662f2f2df465716e348",
     "grade": false,
     "grade_id": "instr-bbox",
     "locked": true,
     "points": 8,
     "schema_version": 3,
     "solution": false,
     "task": true
    }
   },
   "source": [
    "### Bounding Box\n",
    "\n",
    "Next, prepare the `BBox` object for each neighborhood. \n",
    "\n",
    "\n",
    "YOUR TASK:\n",
    "  1. Using last week's assignment, put the code to define an `etee.BBox` object into the cell below **inside the same `for` loop** you wrote above.\n",
    "  \n",
    "  > What does **inside the `for` loop** mean? It means **indented** after the `for/in` statement. In the previous example, both `print(i)` and `print(row)` were inside the `for` loop.\n",
    "  \n",
    "  2. Switch to using the **looping variables** in your loop instead of static variables -- Replace `GeoDataFrame.total_bounds` with the `bounds` attribute of the `geometry` of the row you are working on.\n",
    "\n",
    "  3. Test your work! How can you make sure that your code does what it is supposed to do? For now, this could be as simple as printing out some details about the `BBox` to make sure that the bounds change each time through the loop.\n",
    "  \n",
    "> HINT: You'll notice that printing the `BBox` itself doesn't give you any information about the coordinates. Use the `help()` function to see all the attributes of the `BBox` object, as in:\n",
    "> `help(etee.BBox)`\n",
    "\n",
    "> HINT: print out something like `'\\nCreating BBox'` as the first line of your loop to separate each iteration of the loop. The `\\n` will translate into an empty line.\n",
    "\n",
    "For an EXTRA CHALLENGE: write tests like the ones in previous assignments, or even use a testing framework like `pytest`. HINT: ChatGPT does a pretty good job of writing tests!"
   ]
  },
  {
   "cell_type": "code",
   "execution_count": null,
   "metadata": {
    "deletable": false,
    "nbgrader": {
     "cell_type": "code",
     "checksum": "96456f4100eb14b6687464a4b27faa61",
     "grade": false,
     "grade_id": "ans-bbox",
     "locked": false,
     "schema_version": 3,
     "solution": true,
     "task": false
    }
   },
   "outputs": [],
   "source": [
    "# YOUR CODE HERE\n",
    "raise NotImplementedError()"
   ]
  },
  {
   "cell_type": "markdown",
   "metadata": {
    "deletable": false,
    "editable": false,
    "nbgrader": {
     "cell_type": "markdown",
     "checksum": "aedc93663fe072c9430579fd25301809",
     "grade": false,
     "grade_id": "task-prep-download",
     "locked": true,
     "points": 8,
     "schema_version": 3,
     "solution": false,
     "task": true
    }
   },
   "source": [
    "### Prepare downloader\n",
    "\n",
    "Next, prepare your `EarthExplorerDownloader` object with the bounding box and a new label.\n",
    "\n",
    "YOUR TASK:\n",
    "  1. Copy your `for` loop to the next cell\n",
    "  2. Add the next line of code from the previous assignment **inside the `for` loop**. **DO NOT** add the steps for requesting the download OR downloading yet!\n",
    "  3. Change the `label` parameter to a **lower case** version of the neighborhood name with **dashes `-` instead of spaces**\n",
    "  4. Test your code. You should check at a minimum that the `.label` and `.bbox` attributes of the `etee.EarthExplorerDownloader` are what you expect them to be."
   ]
  },
  {
   "cell_type": "code",
   "execution_count": null,
   "metadata": {
    "deletable": false,
    "nbgrader": {
     "cell_type": "code",
     "checksum": "0f27fe0c802c7222e8b36d96238a927e",
     "grade": false,
     "grade_id": "ans-pre-download",
     "locked": false,
     "schema_version": 3,
     "solution": true,
     "task": false
    }
   },
   "outputs": [],
   "source": [
    "# YOUR CODE HERE\n",
    "raise NotImplementedError()"
   ]
  },
  {
   "cell_type": "markdown",
   "metadata": {
    "deletable": false,
    "editable": false,
    "nbgrader": {
     "cell_type": "markdown",
     "checksum": "88725fa2ff4768748414250dbbd795a3",
     "grade": false,
     "grade_id": "task-downlaod",
     "locked": true,
     "points": 8,
     "schema_version": 3,
     "solution": false,
     "task": true
    }
   },
   "source": [
    "### Download data\n",
    "\n",
    "You know the drill...YOUR TASK:\n",
    "\n",
    "1. Copy your loop as it stands into the cell below\n",
    "2. Add the lines to request a download and download the data\n",
    "3. Run your code and check if it worked, for example by printing out the paths to all the `.tif` files in your two download directories."
   ]
  },
  {
   "cell_type": "code",
   "execution_count": null,
   "metadata": {
    "deletable": false,
    "nbgrader": {
     "cell_type": "code",
     "checksum": "7be14fe3d75462ced1803cf9a1a52cf2",
     "grade": false,
     "grade_id": "ans-download",
     "locked": false,
     "schema_version": 3,
     "solution": true,
     "task": false
    }
   },
   "outputs": [],
   "source": [
    "# YOUR CODE HERE\n",
    "raise NotImplementedError()"
   ]
  },
  {
   "cell_type": "markdown",
   "metadata": {
    "deletable": false,
    "editable": false,
    "nbgrader": {
     "cell_type": "markdown",
     "checksum": "2b9e497b5a0c8e0b3d6e92b556e33c0b",
     "grade": false,
     "grade_id": "instr-load-data",
     "locked": true,
     "points": 8,
     "schema_version": 3,
     "solution": false,
     "task": true
    }
   },
   "source": [
    "### Iterate through the neighborhoods to load data\n",
    "\n",
    "You could continue building the loop you have. However, then you will have to wait for the API check every time you run your loop. It's important to be efficient with your time as well as the computer's!\n",
    "\n",
    "YOUR TASK:\n",
    " 1. Copy your loop and delete all the download code\n",
    " 2. For each neighborhood, generate and print out the path to the data for that neighborhood.\n",
    " 3. To test, check that each path exists"
   ]
  },
  {
   "cell_type": "code",
   "execution_count": null,
   "metadata": {
    "deletable": false,
    "nbgrader": {
     "cell_type": "code",
     "checksum": "a90f0a81189af68d60f0dff75d22e61d",
     "grade": false,
     "grade_id": "ans-load-data",
     "locked": false,
     "schema_version": 3,
     "solution": true,
     "task": false
    }
   },
   "outputs": [],
   "source": [
    "# YOUR CODE HERE\n",
    "raise NotImplementedError()"
   ]
  },
  {
   "cell_type": "markdown",
   "metadata": {
    "deletable": false,
    "editable": false,
    "nbgrader": {
     "cell_type": "markdown",
     "checksum": "e4d9c6eb1e2643368484148cd774d639",
     "grade": false,
     "grade_id": "task-paths",
     "locked": true,
     "points": 8,
     "schema_version": 3,
     "solution": false,
     "task": true
    }
   },
   "source": [
    "### Get paths to the data\n",
    "\n",
    "The entire Humboldt Park neighborhood was in a single tile of NAIP data, so we didn't have to worry about spatially merging or **mosaicing** multiple tiles. Notice that the Lincoln Park neighborhood covers two tiles. You'll need to load all the tiles for each neighborhood!\n",
    "\n",
    "YOUR TASK:\n",
    "1. Start with your loop from above that generates the data directory for each neighborhood\n",
    "2. Get a list of all the `.tif` files for each neighborhood\n",
    "3. Test your code by printing the path to each `.tif` file and whether or not it exists. Note that your will need to use another iterative structure or function to do so - I recommend **list comprehension**."
   ]
  },
  {
   "cell_type": "code",
   "execution_count": null,
   "metadata": {
    "deletable": false,
    "nbgrader": {
     "cell_type": "code",
     "checksum": "89ac1dc0b839804b3cc39cacecb70e5b",
     "grade": false,
     "grade_id": "ans-paths",
     "locked": false,
     "schema_version": 3,
     "solution": true,
     "task": false
    }
   },
   "outputs": [],
   "source": [
    "# YOUR CODE HERE\n",
    "raise NotImplementedError()"
   ]
  },
  {
   "cell_type": "markdown",
   "metadata": {
    "deletable": false,
    "editable": false,
    "nbgrader": {
     "cell_type": "markdown",
     "checksum": "449504eb67fed3db873522872a54b77e",
     "grade": false,
     "grade_id": "task-load",
     "locked": true,
     "points": 8,
     "schema_version": 3,
     "solution": false,
     "task": true
    }
   },
   "source": [
    "### Load data\n",
    "\n",
    "YOUR TASK:\n",
    "1. Start with your `for` loop that gets a list of paths to all the `.tif` files for each neighborhood.\n",
    "2. Use **list comprehension** (or another iterative structure) to load in each `.tif` file and a `DataArray`\n",
    "3. Test that your code works by printing out the coordinates for each `DataArray`, or something similar."
   ]
  },
  {
   "cell_type": "code",
   "execution_count": null,
   "metadata": {
    "deletable": false,
    "nbgrader": {
     "cell_type": "code",
     "checksum": "4ce8dee4bbb7b1639f031f6642e396d1",
     "grade": false,
     "grade_id": "ans-load",
     "locked": false,
     "schema_version": 3,
     "solution": true,
     "task": false
    }
   },
   "outputs": [],
   "source": [
    "# YOUR CODE HERE\n",
    "raise NotImplementedError()"
   ]
  },
  {
   "cell_type": "markdown",
   "metadata": {
    "deletable": false,
    "editable": false,
    "nbgrader": {
     "cell_type": "markdown",
     "checksum": "7463a93f7af6bb61c2b50d8b2a672563",
     "grade": false,
     "grade_id": "task-merge",
     "locked": true,
     "points": 8,
     "schema_version": 3,
     "solution": false,
     "task": true
    }
   },
   "source": [
    "### Merge data\n",
    "\n",
    "Because the Lincoln Park neighborhood covers two tiles, you will need to merge the `DataArray`s for that neighborhood. Below is an example of how to do that using the `rioxarray.merge` module:\n",
    "\n",
    "```python\n",
    "rxrmerge.merge_arrays(list_of_das)\n",
    "```\n",
    "\n",
    "YOUR TASK:\n",
    "1. Start with your `for` loop that gets a list of `DataArray`s for each neighborhood.\n",
    "2. Merge the `DataArray`s (NOTE it's ok to merge a single array for now. It will take longer than necessary but still run.)\n",
    "3. Merging also takes some time. Save your work by putting each merged array in a **Python dictionary** with the name of the neighborhood as the key, using the following code as a guide:\n",
    "\n",
    "```python\n",
    "# Create an empty dictionary\n",
    "my_dict = {}\n",
    "# Add da under the neighborhood name\n",
    "dict[name] = da\n",
    "```\n",
    "\n",
    "4. Test that your code works by again printing the coordinates from each array. Did the merge work as expected?"
   ]
  },
  {
   "cell_type": "code",
   "execution_count": null,
   "metadata": {
    "deletable": false,
    "nbgrader": {
     "cell_type": "code",
     "checksum": "92ce6ede0b1456b0cc52aead0b3de308",
     "grade": false,
     "grade_id": "ans-merge",
     "locked": false,
     "schema_version": 3,
     "solution": true,
     "task": false
    }
   },
   "outputs": [],
   "source": [
    "# YOUR CODE HERE\n",
    "raise NotImplementedError()"
   ]
  },
  {
   "cell_type": "markdown",
   "metadata": {
    "deletable": false,
    "editable": false,
    "nbgrader": {
     "cell_type": "markdown",
     "checksum": "9565b0eae48a28c339576ae4c4ac69f6",
     "grade": false,
     "grade_id": "step-5",
     "locked": true,
     "schema_version": 3,
     "solution": false,
     "task": false
    }
   },
   "source": [
    "## STEP 5: Compute NDVI and summary statistics"
   ]
  },
  {
   "cell_type": "markdown",
   "metadata": {
    "deletable": false,
    "editable": false,
    "nbgrader": {
     "cell_type": "markdown",
     "checksum": "b9a3370182975170986bf74940ea7c5c",
     "grade": false,
     "grade_id": "task-ndvi",
     "locked": true,
     "points": 26,
     "schema_version": 3,
     "solution": false,
     "task": true
    }
   },
   "source": [
    "For this last step, I'm asking you to add a lot more code than previous steps. Use what you learned break down this larger step into manageable tasks! Some tips:\n",
    "\n",
    " * Write some pseudocode (like an outline of your code) before you start. I like to format mine as comments\n",
    " * Write one line at a time\n",
    " * Test each line before moving on. The `print()` function is your friend!\n",
    " * Think carefully about your variable names inside the `for` loop - e.g. you don't want to name a variable in the `for` loop `humboldt_park_ndvi`, because in later iterations that won't be true -- it will be Lincoln Park NDVI.\n",
    "\n",
    "> IMPORTANT: If you can't get this loop to work, you can still get a LOT of partial credit by including your pseudocode, comments, and explanations about what you were trying to do.\n",
    "\n",
    "YOUR TASK:\n",
    "1. Start a `for` loop iterating over your dictionary of `DataArray`s. You can use the `.items()` method of dictionaries to get an iterable version of a dictionary. For example:\n",
    "\n",
    "```python\n",
    "for key, value in my_dictionary.items():\n",
    "    ...\n",
    "```\n",
    "\n",
    "2. Add the code to compute summary statistics of NDVI for each neighborhood `DataArray`, saving the data as a `DataFrame` in a list.\n",
    "3. Combine all the `DataFrame`s into one with the `pd.concat()` function\n",
    "4. Save the result to a file.\n",
    "\n",
    "> HINT: you should NOT use et.norm_difference() to compute NDVI. It causes problems because Lake Michigan has 0 values in the red AND nir bands. You can compute NDVI yourself using Python operators."
   ]
  },
  {
   "cell_type": "code",
   "execution_count": null,
   "metadata": {
    "deletable": false,
    "nbgrader": {
     "cell_type": "code",
     "checksum": "96b502b32233419baede0d41d49b1762",
     "grade": false,
     "grade_id": "ans-ndvi",
     "locked": false,
     "schema_version": 3,
     "solution": true,
     "task": false
    }
   },
   "outputs": [],
   "source": [
    "# YOUR CODE HERE\n",
    "raise NotImplementedError()"
   ]
  }
 ],
 "metadata": {
  "extensions": {
   "jupyter_dashboards": {
    "activeView": "report_default",
    "version": 1,
    "views": {
     "grid_default": {
      "name": "grid",
      "type": "grid"
     },
     "report_default": {
      "name": "report",
      "type": "report"
     }
    }
   }
  },
  "kernelspec": {
   "display_name": "Python 3 (ipykernel)",
   "language": "python",
   "name": "python3"
  },
  "language_info": {
   "codemirror_mode": {
    "name": "ipython",
    "version": 3
   },
   "file_extension": ".py",
   "mimetype": "text/x-python",
   "name": "python",
   "nbconvert_exporter": "python",
   "pygments_lexer": "ipython3",
   "version": "3.10.12"
  },
  "toc": {
   "base_numbering": 1,
   "nav_menu": {},
   "number_sections": true,
   "sideBar": true,
   "skip_h1_title": false,
   "title_cell": "Table of Contents",
   "title_sidebar": "Contents",
   "toc_cell": false,
   "toc_position": {
    "height": "calc(100% - 180px)",
    "left": "10px",
    "top": "150px",
    "width": "249.4px"
   },
   "toc_section_display": true,
   "toc_window_display": true
  },
  "varInspector": {
   "cols": {
    "lenName": 16,
    "lenType": 16,
    "lenVar": 40
   },
   "kernels_config": {
    "python": {
     "delete_cmd_postfix": "",
     "delete_cmd_prefix": "del ",
     "library": "var_list.py",
     "varRefreshCmd": "print(var_dic_list())"
    },
    "r": {
     "delete_cmd_postfix": ") ",
     "delete_cmd_prefix": "rm(",
     "library": "var_list.r",
     "varRefreshCmd": "cat(var_dic_list()) "
    }
   },
   "types_to_exclude": [
    "module",
    "function",
    "builtin_function_or_method",
    "instance",
    "_Feature"
   ],
   "window_display": false
  }
 },
 "nbformat": 4,
 "nbformat_minor": 4
}
